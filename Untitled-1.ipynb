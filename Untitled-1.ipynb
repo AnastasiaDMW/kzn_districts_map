{
 "cells": [
  {
   "cell_type": "code",
   "execution_count": 1,
   "metadata": {},
   "outputs": [],
   "source": [
    "import pandas as pd\n",
    "from ipyleaflet import Map, Marker, Polygon, FullScreenControl, LegendControl\n",
    "from ipywidgets import Layout\n",
    "\n",
    "class MapRenderer:\n",
    "    \n",
    "    def __init__(self, district_data: pd.DataFrame, points_data: pd.DataFrame):\n",
    "        self.__points_data = points_data\n",
    "        self.__district_data = district_data\n",
    "\n",
    "    def get_map(self) -> Map:\n",
    "        \n",
    "        # Центр краты\n",
    "        center_lat = self.__points_data['lat'].median()\n",
    "        center_lon = self.__points_data['lon'].median()\n",
    "\n",
    "        m = Map(center=(center_lat, center_lon), zoom=12, layout=Layout(width='100%', height='800px'))\n",
    "\n",
    "        for _, row in self.__district_data.iterrows():\n",
    "            district_name = row['district']\n",
    "            color = row['color']\n",
    "            center = eval(row['center'])\n",
    "            points = [tuple(pt) for pt in eval(row['points'])]\n",
    "\n",
    "            # Создание полигона\n",
    "            polygon = Polygon(\n",
    "                locations=points,\n",
    "                color=color,\n",
    "                fill_color=color,\n",
    "                fill_opacity=0.6,\n",
    "                name=district_name\n",
    "            )\n",
    "            m.add_layer(polygon)\n",
    "\n",
    "            # Создание маркера\n",
    "            marker = Marker(\n",
    "                location=center,\n",
    "                draggable=False,\n",
    "                title=district_name\n",
    "            )\n",
    "            m.add_layer(marker)\n",
    "\n",
    "        m.add_control(FullScreenControl())\n",
    "\n",
    "        return m"
   ]
  },
  {
   "cell_type": "code",
   "execution_count": 2,
   "metadata": {},
   "outputs": [],
   "source": [
    "import pandas as pd\n",
    "import numpy as np\n",
    "import random\n",
    "\n",
    "class ConvexHullBuilder:\n",
    "    \n",
    "    def __init__(self, points: pd.DataFrame):\n",
    "        print(points)\n",
    "        self.__points = points\n",
    "\n",
    "    # Поворот\n",
    "    def rotate(self, p, q, r):\n",
    "        return (q[1] - p[1]) * (r[0] - q[0]) - (q[0] - p[0]) * (r[1] - q[1])\n",
    "\n",
    "    def jarvis(self, points):\n",
    "        n = len(points)\n",
    "        if n < 3:\n",
    "            return points\n",
    "\n",
    "        hull = []\n",
    "        # мин знач столбика x\n",
    "        l = np.argmin(points[:, 0])\n",
    "        p = l\n",
    "\n",
    "        while True:\n",
    "            hull.append(tuple(points[p]))\n",
    "            # получение след точки\n",
    "            next_p = (p + 1) % n\n",
    "            for i in range(n):\n",
    "                # против часовой стрелки\n",
    "                if self.rotate(points[p], points[i], points[next_p]) < 0:\n",
    "                    next_p = i\n",
    "            p = next_p\n",
    "            if p == l:\n",
    "                break\n",
    "\n",
    "        return hull\n",
    "\n",
    "    def get_convex_hull(self) -> pd.DataFrame:\n",
    "        results = []\n",
    "        \n",
    "        for district, group in self.__points.groupby('district'):\n",
    "            points = group[['lat', 'lon']].values\n",
    "            hull_points = self.jarvis(points)\n",
    "            center = points.mean(axis=0)\n",
    "            color = \"#%06x\" % random.randint(0, 0xFFFFFF)\n",
    "\n",
    "            results.append({\n",
    "                'district': district,\n",
    "                'points': hull_points,\n",
    "                'center': tuple(center),\n",
    "                'color': color\n",
    "            })\n",
    "\n",
    "        return pd.DataFrame(results)"
   ]
  },
  {
   "cell_type": "code",
   "execution_count": 3,
   "metadata": {},
   "outputs": [
    {
     "name": "stdout",
     "output_type": "stream",
     "text": [
      "            lat        lon              district\n",
      "0     55.811575  49.260776         Советский р-н\n",
      "1     55.839775  49.197534         Советский р-н\n",
      "2     55.817494  49.081695         Кировский р-н\n",
      "3     55.796896  49.048205         Кировский р-н\n",
      "4     55.749173  49.136699       Приволжский р-н\n",
      "...         ...        ...                   ...\n",
      "1218  55.807692  49.284231         Советский р-н\n",
      "1219  55.748668  49.216151       Приволжский р-н\n",
      "1220  55.746167  49.109487       Приволжский р-н\n",
      "1221  55.828192  49.105481  Ново-Савиновский р-н\n",
      "1222  55.805700  49.060230         Кировский р-н\n",
      "\n",
      "[1223 rows x 3 columns]\n"
     ]
    },
    {
     "data": {
      "application/vnd.jupyter.widget-view+json": {
       "model_id": "d1256648fce948e8b46f85af7d84ece8",
       "version_major": 2,
       "version_minor": 0
      },
      "text/plain": [
       "Map(center=[55.79462976, 49.15689314], controls=(ZoomControl(options=['position', 'zoom_in_text', 'zoom_in_tit…"
      ]
     },
     "execution_count": 3,
     "metadata": {},
     "output_type": "execute_result"
    }
   ],
   "source": [
    "import pandas as pd\n",
    "\n",
    "# Поменяйте путь на свой\n",
    "PATH_TO_SAVE = \"C:\\\\Users\\\\user\\\\Desktop\\\\dz_new\\\\kzn_districts_map_template\\\\result.csv\"\n",
    "\n",
    "points_df = pd.read_csv(\"C:\\\\Users\\\\user\\\\Desktop\\\\dz_new\\\\kzn_districts_map_template\\\\points.csv\")\n",
    "\n",
    "builder = ConvexHullBuilder(points_df)\n",
    "\n",
    "result_df = builder.get_convex_hull()\n",
    "\n",
    "result_df.to_csv(PATH_TO_SAVE, index=False)\n",
    "districts_df = pd.read_csv(PATH_TO_SAVE)\n",
    "\n",
    "renderer = MapRenderer(districts_df, points_df)\n",
    "renderer.get_map()"
   ]
  }
 ],
 "metadata": {
  "kernelspec": {
   "display_name": "Python 3",
   "language": "python",
   "name": "python3"
  },
  "language_info": {
   "codemirror_mode": {
    "name": "ipython",
    "version": 3
   },
   "file_extension": ".py",
   "mimetype": "text/x-python",
   "name": "python",
   "nbconvert_exporter": "python",
   "pygments_lexer": "ipython3",
   "version": "3.12.3"
  },
  "orig_nbformat": 4,
  "vscode": {
   "interpreter": {
    "hash": "3fcbd7240ee8f908d933dc7f71e8c42a1a91163b70ede8dcff5146d4087436c7"
   }
  }
 },
 "nbformat": 4,
 "nbformat_minor": 2
}
